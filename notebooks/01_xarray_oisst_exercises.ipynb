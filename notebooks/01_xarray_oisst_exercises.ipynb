{
 "cells": [
  {
   "cell_type": "markdown",
   "id": "c56452c7",
   "metadata": {},
   "source": [
    "# Xarray + Cloud OISST (One-Month) Basics & Stats\n",
    "\n",
    "This notebook demonstrates basic **xarray** operations on a **one-month** subset of a cloud-hosted climate dataset: **NOAA OISST v2.1 daily SST** on AWS Public Datasets (NetCDF files). You'll:\n",
    "- Discover files for one month on S3 with `fsspec`\n",
    "- Open them with `xarray.open_mfdataset` (anonymous S3)\n",
    "- Inspect dataset structure\n",
    "- Subset in space (and within that month)\n",
    "- Compute basic stats (mean, std, anomalies relative to the month’s mean)\n",
    "- Make maps of the month-mean and variability\n",
    "\n",
    "**Deliverables:** Answer the **🧩 Questions** in the markdown prompts. Fill in the code where indicated by `# TODO`.\n"
   ]
  },
  {
   "cell_type": "code",
   "execution_count": null,
   "id": "4b28dcd7",
   "metadata": {},
   "outputs": [],
   "source": [
    "import xarray as xr\n",
    "import fsspec\n",
    "import numpy as np\n",
    "import pandas as pd\n",
    "import matplotlib.pyplot as plt\n",
    "\n",
    "plt.rcParams['figure.figsize'] = (10,5)\n",
    "plt.rcParams['figure.dpi'] = 120\n"
   ]
  },
  {
   "cell_type": "markdown",
   "id": "5603a3fa",
   "metadata": {},
   "source": [
    "## 1) Open the cloud dataset (NetCDF on AWS, one month)\n",
    "\n",
    "We'll access **NOAA OISST v2.1 (daily)** in the NOAA CDR bucket on AWS. Files are arranged by **YYYYMM**.\n",
    "\n",
    "**🧩 Questions**\n",
    "1. What engine are we using to read NetCDF files from S3?\n",
    "2. Why do we need `storage_options={'anon': True}`?\n",
    "3. Inspect dataset attributes: what are the units and long name of `sst`?\n"
   ]
  },
  {
   "cell_type": "code",
   "execution_count": null,
   "id": "bef6e720",
   "metadata": {},
   "outputs": [],
   "source": [
    "yearmonth = \"202001\"  # TODO: try other months like \"201507\" or \"201909\"\n",
    "prefix = f\"noaa-cdr-sea-surface-temp-optimum-interpolation-pds/data/v2.1/avhrr/{yearmonth}/oisst-avhrr-v02r01.*.nc\"\n",
    "\n",
    "fs = fsspec.filesystem(\"s3\", anon=True)\n",
    "paths = sorted(fs.glob(prefix))\n",
    "print(f\"Found {len(paths)} files for {yearmonth}. Example:\", paths[:2])\n",
    "\n",
    "urls = [f\"s3://{p}\" for p in paths]\n",
    "\n",
    "ds = xr.open_mfdataset(\n",
    "    urls,\n",
    "    engine=\"h5netcdf\",\n",
    "    combine=\"by_coords\",\n",
    "    decode_times=True,\n",
    "    mask_and_scale=True,\n",
    "    backend_kwargs={\"storage_options\": {\"anon\": True}},\n",
    "    chunks={\"time\": 1}\n",
    ")\n",
    "\n",
    "ds\n"
   ]
  },
  {
   "cell_type": "markdown",
   "id": "921c5997",
   "metadata": {},
   "source": [
    "## 2) Explore coordinates & variables\n",
    "\n",
    "**🧩 Questions**\n",
    "1. What are the coordinate names for time and space?\n",
    "2. What is the shape of `sst`?\n",
    "3. How are missing values represented?\n"
   ]
  },
  {
   "cell_type": "code",
   "execution_count": null,
   "id": "602af4dd",
   "metadata": {},
   "outputs": [],
   "source": [
    "list(ds.data_vars), list(ds.coords)"
   ]
  },
  {
   "cell_type": "markdown",
   "id": "7bd24654",
   "metadata": {},
   "source": [
    "## 3) Time & space subsetting\n",
    "\n",
    "We'll select a **regional box** (e.g., Gulf of Mexico) within this month.\n",
    "\n",
    "**🧩 Questions**\n",
    "1. What lon/lat bounds did you choose?\n",
    "2. How many daily steps are present in this month?\n"
   ]
  },
  {
   "cell_type": "code",
   "execution_count": null,
   "id": "a4963450",
   "metadata": {},
   "outputs": [],
   "source": [
    "var = \"sst\"\n",
    "\n",
    "lon_min, lon_max = -98, -80   # TODO\n",
    "lat_min, lat_max =  18,  31   # TODO\n",
    "\n",
    "def to_0360(lon):\n",
    "    lon = np.asarray(lon)\n",
    "    out = np.mod(lon, 360.0)\n",
    "    out[out < 0] += 360.0\n",
    "    return out\n",
    "\n",
    "lon_min_0360, lon_max_0360 = to_0360([lon_min, lon_max])\n",
    "\n",
    "dss = ds.sel(\n",
    "    lon=slice(lon_min_0360, lon_max_0360),\n",
    "    lat=slice(lat_min, lat_max)\n",
    ")\n",
    "\n",
    "dss[var]\n"
   ]
  },
  {
   "cell_type": "markdown",
   "id": "5d882565",
   "metadata": {},
   "source": [
    "## 4) Basic statistics\n",
    "\n",
    "Compute region-wide stats through time and over space **within this month**.\n",
    "\n",
    "**🧩 Questions**\n",
    "1. Compute the spatial mean SST time series over your box. What is the monthly average and standard deviation?\n",
    "2. Compute within-month anomalies (subtract the month-mean). What are the largest positive and negative anomalies?\n",
    "3. What day had the warmest/coolest region-mean SST?\n"
   ]
  },
  {
   "cell_type": "code",
   "execution_count": null,
   "id": "7c7b9f30",
   "metadata": {},
   "outputs": [],
   "source": [
    "ts = dss[var].mean(dim=['lat','lon'])\n",
    "\n",
    "ts_mean = ts.mean().compute()\n",
    "ts_std  = ts.std().compute()\n",
    "print('Month mean SST (°C):', float(ts_mean.values))\n",
    "print('Month std SST (°C):', float(ts_std.values))\n",
    "\n",
    "ts.load().plot()\n",
    "plt.title('Region-mean SST time series (one month)')\n",
    "plt.ylabel('°C')\n",
    "plt.show()\n",
    "\n",
    "imax = int(ts.argmax('time'))\n",
    "imin = int(ts.argmin('time'))\n",
    "print('Warmest day:', pd.to_datetime(ts.time[imax].values).date(), float(ts.isel(time=imax).values))\n",
    "print('Coolest day:', pd.to_datetime(ts.time[imin].values).date(), float(ts.isel(time=imin).values))\n"
   ]
  },
  {
   "cell_type": "code",
   "execution_count": null,
   "id": "829c560e",
   "metadata": {},
   "outputs": [],
   "source": [
    "month_mean = dss[var].mean('time')\n",
    "anom = dss[var] - month_mean\n",
    "\n",
    "ts_anom = anom.mean(dim=['lat','lon'])\n",
    "print('Max anomaly (°C):', float(ts_anom.max().compute().values))\n",
    "print('Min anomaly (°C):', float(ts_anom.min().compute().values))\n",
    "\n",
    "ts_anom.load().plot()\n",
    "plt.title('Region-mean SST anomalies (relative to this month mean)')\n",
    "plt.axhline(0, lw=1)\n",
    "plt.ylabel('°C')\n",
    "plt.show()\n"
   ]
  },
  {
   "cell_type": "markdown",
   "id": "6a2d8cbf",
   "metadata": {},
   "source": [
    "## 5) Regional maps: month-mean and variability\n",
    "\n",
    "Make maps of month-mean SST and within-month variability (std and range).\n",
    "\n",
    "**🧩 Questions**\n",
    "1. What patterns do you notice?\n",
    "2. Where is variability strongest?\n"
   ]
  },
  {
   "cell_type": "code",
   "execution_count": null,
   "id": "17a5f06f",
   "metadata": {},
   "outputs": [],
   "source": [
    "mean_sst = dss[var].mean('time')\n",
    "std_sst  = dss[var].std('time')\n",
    "range_sst = dss[var].max('time') - dss[var].min('time')\n",
    "\n",
    "fig = plt.figure(figsize=(15,4))\n",
    "ax = plt.subplot(1,3,1); mean_sst.plot(ax=ax); ax.set_title('Month-mean SST (°C)')\n",
    "ax = plt.subplot(1,3,2); std_sst.plot(ax=ax); ax.set_title('SST Std Dev (°C)')\n",
    "ax = plt.subplot(1,3,3); range_sst.plot(ax=ax); ax.set_title('SST Range (°C)')\n",
    "plt.tight_layout(); plt.show()\n"
   ]
  },
  {
   "cell_type": "markdown",
   "id": "c28be485",
   "metadata": {},
   "source": [
    "## 6) Export a small subset for sharing (Check In Problem for Module 2)\n",
    "\n",
    "Write a NetCDF with your regional mean time series and month-mean/variability maps.  Upload with your committed repository."
   ]
  },
  {
   "cell_type": "code",
   "execution_count": null,
   "id": "8167b72e",
   "metadata": {},
   "outputs": [],
   "source": []
  }
 ],
 "metadata": {
  "language_info": {
   "name": "python"
  }
 },
 "nbformat": 4,
 "nbformat_minor": 5
}
